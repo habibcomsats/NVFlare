{
 "cells": [
  {
   "cell_type": "markdown",
   "id": "0f4f2337-5965-4ad1-a774-9a08247c86fa",
   "metadata": {},
   "source": [
    "# Submittin an FL Hub job"
   ]
  },
  {
   "cell_type": "code",
   "execution_count": 1,
   "id": "7fd25999-4939-4799-9f7b-faddafab83f2",
   "metadata": {},
   "outputs": [
    {
     "name": "stdout",
     "output_type": "stream",
     "text": [
      "/home/hroth/Code2/nvflare/flhub/examples/flhub/nvflare_flhub/bin/python3.8\n",
      "3.8.15 (default, Oct 12 2022, 19:15:16) \n",
      "[GCC 11.2.0]\n"
     ]
    }
   ],
   "source": [
    "# add path\n",
    "import sys\n",
    "print(sys.executable)\n",
    "print(sys.version)\n",
    "\n",
    "NVFLARE_HOME=f\"/home/hroth/Code2/nvflare/flhub\"\n",
    "HUB_EXAMPLE=f\"{NVFLARE_HOME}/examples/flhub\""
   ]
  },
  {
   "cell_type": "code",
   "execution_count": 2,
   "id": "33feee99-4dac-413e-889d-f5dcdf85a994",
   "metadata": {},
   "outputs": [
    {
     "name": "stdout",
     "output_type": "stream",
     "text": [
      "Python 3.8.15\n",
      "monai-nvflare==0.2.1\n",
      "-e git+ssh://git@github.com/holgerroth/NVFlare.git@7569e5359161700fb215ae1ae90db263e54d636f#egg=nvflare_nightly\n",
      "pytorch-ignite==0.4.10\n",
      "torch==1.13.0\n",
      "monai==1.0.1\n",
      "monai-nvflare==0.2.1\n"
     ]
    }
   ],
   "source": [
    "# (optional) check environment\n",
    "!python --version\n",
    "!pip freeze | grep nvflare\n",
    "!pip freeze | grep torch\n",
    "!pip freeze | grep monai"
   ]
  },
  {
   "cell_type": "markdown",
   "id": "ce69e66c-dbbe-457c-a7a8-e0dc1e7adf59",
   "metadata": {},
   "source": [
    "### Open admin api runner"
   ]
  },
  {
   "cell_type": "code",
   "execution_count": 3,
   "id": "e33d376f-9d48-4a85-8387-fe97f0d63921",
   "metadata": {},
   "outputs": [],
   "source": [
    "from nvflare.fuel.hci.client.fl_admin_api_runner import FLAdminAPIRunner, api_command_wrapper\n",
    "\n",
    "# Initialize the runner\n",
    "runner = FLAdminAPIRunner(\n",
    "    username=\"admin@nvflare.com\",\n",
    "    admin_dir=f\"{HUB_EXAMPLE}/workspaces/t1_workspace/admin@nvflare.com\",\n",
    "    poc=False,\n",
    "    debug=False,\n",
    ")"
   ]
  },
  {
   "cell_type": "markdown",
   "id": "e256c254-7aed-4498-ab23-c581aa8a67ff",
   "metadata": {},
   "source": [
    "### Submit job"
   ]
  },
  {
   "cell_type": "code",
   "execution_count": 4,
   "id": "3921e07b-093e-492b-9d35-702ed0debb28",
   "metadata": {},
   "outputs": [
    {
     "name": "stdout",
     "output_type": "stream",
     "text": [
      "{'status': <APIStatus.SUCCESS: 'SUCCESS'>, 'details': {'message': 'Submitted job: d23062a6-3171-4276-85e1-86fdea44915f', 'job_id': 'd23062a6-3171-4276-85e1-86fdea44915f'}, 'raw': {'time': '2022-11-09 18:29:15.570446', 'data': [{'type': 'string', 'data': 'Submitted job: d23062a6-3171-4276-85e1-86fdea44915f'}, {'type': 'success', 'data': ''}], 'status': <APIStatus.SUCCESS: 'SUCCESS'>}}\n"
     ]
    },
    {
     "data": {
      "text/plain": [
       "{'status': <APIStatus.SUCCESS: 'SUCCESS'>,\n",
       " 'details': {'message': 'Submitted job: d23062a6-3171-4276-85e1-86fdea44915f',\n",
       "  'job_id': 'd23062a6-3171-4276-85e1-86fdea44915f'},\n",
       " 'raw': {'time': '2022-11-09 18:29:15.570446',\n",
       "  'data': [{'type': 'string',\n",
       "    'data': 'Submitted job: d23062a6-3171-4276-85e1-86fdea44915f'},\n",
       "   {'type': 'success', 'data': ''}],\n",
       "  'status': <APIStatus.SUCCESS: 'SUCCESS'>}}"
      ]
     },
     "execution_count": 4,
     "metadata": {},
     "output_type": "execute_result"
    }
   ],
   "source": [
    "job_folder=f\"{HUB_EXAMPLE}/job\"\n",
    "api_command_wrapper(runner.api.submit_job(job_folder))"
   ]
  },
  {
   "cell_type": "markdown",
   "id": "ac99fa30-9266-4307-9693-2a32d56b4790",
   "metadata": {},
   "source": [
    "### List jobs"
   ]
  },
  {
   "cell_type": "code",
   "execution_count": 5,
   "id": "2fd2f3f6-4619-446b-baeb-b76763aff30a",
   "metadata": {},
   "outputs": [],
   "source": [
    "%%capture\n",
    "jobs = api_command_wrapper(runner.api.list_jobs())"
   ]
  },
  {
   "cell_type": "code",
   "execution_count": 6,
   "id": "6bead11a-5f97-47d8-99e1-9107e782dd72",
   "metadata": {},
   "outputs": [
    {
     "name": "stdout",
     "output_type": "stream",
     "text": [
      "-------------------------------------------------------------------------------------------------------------------------------------------\n",
      "| JOB ID                               | NAME          | STATUS                       | SUBMIT TIME                      | RUN DURATION   |\n",
      "-------------------------------------------------------------------------------------------------------------------------------------------\n",
      "| 5a2d5ac4-f882-49e5-8344-e011c3fa0967 | spleen-bundle | FINISHED:EXECUTION_EXCEPTION | 2022-11-09T17:51:58.701293-05:00 | 0:00:52.370493 |\n",
      "| a4bd98bf-afa7-4162-8d12-21ee1324c507 | spleen-bundle | FINISHED:EXECUTION_EXCEPTION | 2022-11-09T18:23:06.803354-05:00 | 0:00:04.643823 |\n",
      "| 572e49eb-e632-4056-94c6-312b95bfb8e1 | spleen-bundle | FINISHED:EXECUTION_EXCEPTION | 2022-11-09T18:26:12.399522-05:00 | 0:00:04.399591 |\n",
      "| d23062a6-3171-4276-85e1-86fdea44915f | spleen-bundle | SUBMITTED                    | 2022-11-09T18:29:15.585640-05:00 | N/A            |\n",
      "-------------------------------------------------------------------------------------------------------------------------------------------\n",
      "\n"
     ]
    }
   ],
   "source": [
    "print(jobs[\"raw\"][\"data\"][0][\"data\"])"
   ]
  },
  {
   "cell_type": "markdown",
   "id": "9f8e793e-ca35-41f2-8ab9-5f4ec67510b6",
   "metadata": {
    "tags": []
   },
   "source": [
    "### Show server log"
   ]
  },
  {
   "cell_type": "code",
   "execution_count": 7,
   "id": "de19c140-bc0d-47ca-ace7-5004f0267e8c",
   "metadata": {},
   "outputs": [],
   "source": [
    "%%capture\n",
    "reply = api_command_wrapper(runner.api.tail_target_log(\"server\"))"
   ]
  },
  {
   "cell_type": "code",
   "execution_count": 8,
   "id": "c3582d15-04f4-456f-9523-c87b3e9c747c",
   "metadata": {
    "tags": []
   },
   "outputs": [
    {
     "name": "stdout",
     "output_type": "stream",
     "text": [
      "2022-11-09 18:26:13,778 - JobRunner - INFO - [identity=t1_project, run=?]: Got the job:572e49eb-e632-4056-94c6-312b95bfb8e1 from the scheduler to run\n",
      "2022-11-09 18:26:13,796 - JobRunner - INFO - [identity=t1_project, run=?]: Application t1_app deployed to the server for job: 572e49eb-e632-4056-94c6-312b95bfb8e1\n",
      "2022-11-09 18:26:13,805 - JobRunner - INFO - [identity=t1_project, run=?]: App t2a_app to be deployed to the clients: t1_client_a for run: 572e49eb-e632-4056-94c6-312b95bfb8e1\n",
      "2022-11-09 18:26:13,812 - JobRunner - INFO - [identity=t1_project, run=?]: App t2b_app to be deployed to the clients: t1_client_b for run: 572e49eb-e632-4056-94c6-312b95bfb8e1\n",
      "2022-11-09 18:26:14,754 - JobRunner - INFO - [identity=t1_project, run=?]: Started run: 572e49eb-e632-4056-94c6-312b95bfb8e1 for clients: t1_client_a,t1_client_b\n",
      "2022-11-09 18:26:17,479 - FederatedServer - INFO - Could not connect to server runner process:  - asked client to end the run\n",
      "2022-11-09 18:26:17,479 - FederatedServer - INFO - GetTask: Return task: __end_run__ to client: t1_client_a (12a13cd1-1e20-4eb8-a4d2-33a1f667a39c) \n",
      "2022-11-09 18:26:17,483 - FederatedServer - INFO - Could not connect to server runner process: [Errno 32] Broken pipe - asked client to end the run\n",
      "2022-11-09 18:26:17,483 - FederatedServer - INFO - GetTask: Return task: __end_run__ to client: t1_client_b (09a6514c-4fcb-4cb7-a1c3-bf8786568b20) \n",
      "2022-11-09 18:26:18,753 - JobRunner - INFO - [identity=t1_project, run=?]: Try to abort run (572e49eb-e632-4056-94c6-312b95bfb8e1) on clients.\n"
     ]
    }
   ],
   "source": [
    "print(reply[\"details\"][\"message\"])"
   ]
  },
  {
   "cell_type": "markdown",
   "id": "634f3dd0-b583-4805-a709-4e6e5fc999e7",
   "metadata": {
    "tags": []
   },
   "source": [
    "### Show Connector-A log"
   ]
  },
  {
   "cell_type": "code",
   "execution_count": 9,
   "id": "21088785-8695-4e74-a7d4-6a5e7d6b8a96",
   "metadata": {},
   "outputs": [],
   "source": [
    "%%capture\n",
    "reply = api_command_wrapper(runner.api.tail_target_log(\"t1_client_a\"))"
   ]
  },
  {
   "cell_type": "code",
   "execution_count": 10,
   "id": "f35e993e-7e27-4417-b138-1d8146d10eac",
   "metadata": {
    "tags": []
   },
   "outputs": [
    {
     "name": "stdout",
     "output_type": "stream",
     "text": [
      "2022-11-09 18:23:10,821 - ProcessExecutor - INFO - run (a4bd98bf-afa7-4162-8d12-21ee1324c507): waiting for child worker process to finish.\n",
      "2022-11-09 18:23:13,472 - ProcessExecutor - INFO - Client worker process is terminated.\n",
      "2022-11-09 18:23:14,286 - ProcessExecutor - INFO - run (a4bd98bf-afa7-4162-8d12-21ee1324c507): child worker process finished with execution code: -9\n",
      "2022-11-09 18:23:23,480 - ProcessExecutor - INFO - run (a4bd98bf-afa7-4162-8d12-21ee1324c507): child worker process terminated\n",
      "2022-11-09 18:26:14,618 - ClientEngine - INFO - Starting client app. rank: 0\n",
      "2022-11-09 18:26:14,640 - ProcessExecutor - INFO - Worker child process ID: 385100\n",
      "2022-11-09 18:26:16,645 - ProcessExecutor - INFO - run (572e49eb-e632-4056-94c6-312b95bfb8e1): waiting for child worker process to finish.\n",
      "2022-11-09 18:26:19,096 - ProcessExecutor - INFO - Client worker process is terminated.\n",
      "2022-11-09 18:26:20,156 - ProcessExecutor - INFO - run (572e49eb-e632-4056-94c6-312b95bfb8e1): child worker process finished with execution code: -9\n",
      "2022-11-09 18:26:29,103 - ProcessExecutor - INFO - run (572e49eb-e632-4056-94c6-312b95bfb8e1): child worker process terminated\n"
     ]
    }
   ],
   "source": [
    "print(reply[\"details\"][\"message\"])"
   ]
  },
  {
   "cell_type": "markdown",
   "id": "6ab641db-f58d-4518-8839-6158f87262cb",
   "metadata": {
    "tags": []
   },
   "source": [
    "### Show Connector-B log"
   ]
  },
  {
   "cell_type": "code",
   "execution_count": 11,
   "id": "23d68fd1-72ad-4114-ad27-68b333b00c23",
   "metadata": {},
   "outputs": [],
   "source": [
    "%%capture\n",
    "reply = api_command_wrapper(runner.api.tail_target_log(\"t1_client_b\"))"
   ]
  },
  {
   "cell_type": "code",
   "execution_count": 12,
   "id": "c2d49cde-4649-4677-b703-8cf57f36d2e4",
   "metadata": {
    "tags": []
   },
   "outputs": [
    {
     "name": "stdout",
     "output_type": "stream",
     "text": [
      "2022-11-09 18:23:10,857 - ProcessExecutor - INFO - run (a4bd98bf-afa7-4162-8d12-21ee1324c507): waiting for child worker process to finish.\n",
      "2022-11-09 18:23:13,400 - ProcessExecutor - INFO - Client worker process is terminated.\n",
      "2022-11-09 18:23:14,339 - ProcessExecutor - INFO - run (a4bd98bf-afa7-4162-8d12-21ee1324c507): child worker process finished with execution code: -9\n",
      "2022-11-09 18:23:23,407 - ProcessExecutor - INFO - run (a4bd98bf-afa7-4162-8d12-21ee1324c507): child worker process terminated\n",
      "2022-11-09 18:26:14,621 - ClientEngine - INFO - Starting client app. rank: 0\n",
      "2022-11-09 18:26:14,641 - ProcessExecutor - INFO - Worker child process ID: 385107\n",
      "2022-11-09 18:26:16,647 - ProcessExecutor - INFO - run (572e49eb-e632-4056-94c6-312b95bfb8e1): waiting for child worker process to finish.\n",
      "2022-11-09 18:26:19,092 - ProcessExecutor - INFO - Client worker process is terminated.\n",
      "2022-11-09 18:26:20,090 - ProcessExecutor - INFO - run (572e49eb-e632-4056-94c6-312b95bfb8e1): child worker process finished with execution code: -9\n",
      "2022-11-09 18:26:29,099 - ProcessExecutor - INFO - run (572e49eb-e632-4056-94c6-312b95bfb8e1): child worker process terminated\n"
     ]
    }
   ],
   "source": [
    "print(reply[\"details\"][\"message\"])"
   ]
  },
  {
   "cell_type": "markdown",
   "id": "178d79bf-9c00-41e6-a1e4-6efae1e7e905",
   "metadata": {},
   "source": [
    "### Finish"
   ]
  },
  {
   "cell_type": "code",
   "execution_count": 13,
   "id": "e7d1e526-d4bc-43a0-bc7e-8ba80bdaa42e",
   "metadata": {},
   "outputs": [
    {
     "data": {
      "text/plain": [
       "{'status': <APIStatus.ERROR_INACTIVE_SESSION: 'ERROR_INACTIVE_SESSION'>,\n",
       " 'details': 'session is logging out'}"
      ]
     },
     "execution_count": 13,
     "metadata": {},
     "output_type": "execute_result"
    }
   ],
   "source": [
    "runner.api.logout()"
   ]
  },
  {
   "cell_type": "markdown",
   "id": "5d73a35d-8ddf-4163-8843-6b68a1909a43",
   "metadata": {},
   "source": [
    "# Show TensorBoard"
   ]
  },
  {
   "cell_type": "code",
   "execution_count": 14,
   "id": "973dce2f-9da3-46b2-a225-30591bb104e4",
   "metadata": {},
   "outputs": [
    {
     "data": {
      "text/html": [
       "\n",
       "      <iframe id=\"tensorboard-frame-7c89211a3024c14e\" width=\"100%\" height=\"800\" frameborder=\"0\">\n",
       "      </iframe>\n",
       "      <script>\n",
       "        (function() {\n",
       "          const frame = document.getElementById(\"tensorboard-frame-7c89211a3024c14e\");\n",
       "          const url = new URL(\"/\", window.location);\n",
       "          const port = 6006;\n",
       "          if (port) {\n",
       "            url.port = port;\n",
       "          }\n",
       "          frame.src = url;\n",
       "        })();\n",
       "      </script>\n",
       "    "
      ],
      "text/plain": [
       "<IPython.core.display.HTML object>"
      ]
     },
     "metadata": {},
     "output_type": "display_data"
    }
   ],
   "source": [
    "# load only the hub server workspace\n",
    "%load_ext tensorboard\n",
    "%tensorboard --logdir \"/home/hroth/Code2/nvflare/flhub/examples/flhub/workspaces/t1_workspace/localhost\""
   ]
  },
  {
   "cell_type": "markdown",
   "id": "ef40053a-1f96-457c-8f9f-fce8073fe1a3",
   "metadata": {},
   "source": [
    "Note. The tensorboard should also be available at [http://localhost:6006](http://localhost:6006)."
   ]
  }
 ],
 "metadata": {
  "kernelspec": {
   "display_name": "Python 3.8 (ipykernel)",
   "language": "python",
   "name": "python3.8"
  },
  "language_info": {
   "codemirror_mode": {
    "name": "ipython",
    "version": 3
   },
   "file_extension": ".py",
   "mimetype": "text/x-python",
   "name": "python",
   "nbconvert_exporter": "python",
   "pygments_lexer": "ipython3",
   "version": "3.8.15"
  }
 },
 "nbformat": 4,
 "nbformat_minor": 5
}
