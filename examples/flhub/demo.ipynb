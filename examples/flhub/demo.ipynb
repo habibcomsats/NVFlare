{
 "cells": [
  {
   "cell_type": "markdown",
   "id": "0f4f2337-5965-4ad1-a774-9a08247c86fa",
   "metadata": {},
   "source": [
    "# Submittin an FL Hub job"
   ]
  },
  {
   "cell_type": "code",
   "execution_count": 1,
   "id": "7fd25999-4939-4799-9f7b-faddafab83f2",
   "metadata": {},
   "outputs": [
    {
     "name": "stdout",
     "output_type": "stream",
     "text": [
      "/home/hroth/Code2/nvflare/flhub/examples/flhub/nvflare_flhub/bin/python3.8\n",
      "3.8.15 (default, Oct 12 2022, 19:15:16) \n",
      "[GCC 11.2.0]\n"
     ]
    }
   ],
   "source": [
    "# add path\n",
    "import sys\n",
    "print(sys.executable)\n",
    "print(sys.version)\n",
    "\n",
    "NVFLARE_HOME=f\"/home/hroth/Code2/nvflare/flhub\"\n",
    "HUB_EXAMPLE=f\"{NVFLARE_HOME}/examples/flhub\""
   ]
  },
  {
   "cell_type": "code",
   "execution_count": 2,
   "id": "33feee99-4dac-413e-889d-f5dcdf85a994",
   "metadata": {},
   "outputs": [
    {
     "name": "stdout",
     "output_type": "stream",
     "text": [
      "Python 3.8.15\n",
      "monai-nvflare==0.2.1\n",
      "-e git+ssh://git@github.com/holgerroth/NVFlare.git@d8c643f8b09306ae80d313fd6e8e00f9fac7a7dd#egg=nvflare_nightly\n",
      "pytorch-ignite==0.4.10\n",
      "torch==1.13.0\n",
      "monai==1.0.1\n",
      "monai-nvflare==0.2.1\n"
     ]
    }
   ],
   "source": [
    "# (optional) check environment\n",
    "!python --version\n",
    "!pip freeze | grep nvflare\n",
    "!pip freeze | grep torch\n",
    "!pip freeze | grep monai"
   ]
  },
  {
   "cell_type": "markdown",
   "id": "ce69e66c-dbbe-457c-a7a8-e0dc1e7adf59",
   "metadata": {},
   "source": [
    "### Open admin api runner"
   ]
  },
  {
   "cell_type": "code",
   "execution_count": 3,
   "id": "e33d376f-9d48-4a85-8387-fe97f0d63921",
   "metadata": {},
   "outputs": [],
   "source": [
    "import msgpack\n",
    "from nvflare.fuel.hci.client.fl_admin_api_runner import FLAdminAPIRunner, api_command_wrapper\n",
    "\n",
    "# Initialize the runner\n",
    "runner = FLAdminAPIRunner(\n",
    "    username=\"admin@nvflare.com\",\n",
    "    admin_dir=f\"{HUB_EXAMPLE}/workspaces/t1_workspace/admin@nvflare.com\",\n",
    "    poc=False,\n",
    "    debug=False,\n",
    ")"
   ]
  },
  {
   "cell_type": "markdown",
   "id": "e256c254-7aed-4498-ab23-c581aa8a67ff",
   "metadata": {},
   "source": [
    "### Submit job"
   ]
  },
  {
   "cell_type": "code",
   "execution_count": 4,
   "id": "3921e07b-093e-492b-9d35-702ed0debb28",
   "metadata": {},
   "outputs": [
    {
     "name": "stdout",
     "output_type": "stream",
     "text": [
      "{'status': <APIStatus.SUCCESS: 'SUCCESS'>, 'details': {'message': 'Submitted job: 296989cf-d3c4-4348-9a75-8c30c01a02fd', 'job_id': '296989cf-d3c4-4348-9a75-8c30c01a02fd'}, 'raw': {'time': '2022-11-09 13:54:03.770632', 'data': [{'type': 'string', 'data': 'Submitted job: 296989cf-d3c4-4348-9a75-8c30c01a02fd'}, {'type': 'success', 'data': ''}], 'status': <APIStatus.SUCCESS: 'SUCCESS'>}}\n"
     ]
    },
    {
     "data": {
      "text/plain": [
       "{'status': <APIStatus.SUCCESS: 'SUCCESS'>,\n",
       " 'details': {'message': 'Submitted job: 296989cf-d3c4-4348-9a75-8c30c01a02fd',\n",
       "  'job_id': '296989cf-d3c4-4348-9a75-8c30c01a02fd'},\n",
       " 'raw': {'time': '2022-11-09 13:54:03.770632',\n",
       "  'data': [{'type': 'string',\n",
       "    'data': 'Submitted job: 296989cf-d3c4-4348-9a75-8c30c01a02fd'},\n",
       "   {'type': 'success', 'data': ''}],\n",
       "  'status': <APIStatus.SUCCESS: 'SUCCESS'>}}"
      ]
     },
     "execution_count": 4,
     "metadata": {},
     "output_type": "execute_result"
    }
   ],
   "source": [
    "job_folder=f\"{HUB_EXAMPLE}/job\"\n",
    "api_command_wrapper(runner.api.submit_job(job_folder))"
   ]
  },
  {
   "cell_type": "markdown",
   "id": "ac99fa30-9266-4307-9693-2a32d56b4790",
   "metadata": {},
   "source": [
    "### List jobs"
   ]
  },
  {
   "cell_type": "code",
   "execution_count": 5,
   "id": "2fd2f3f6-4619-446b-baeb-b76763aff30a",
   "metadata": {},
   "outputs": [],
   "source": [
    "%%capture\n",
    "jobs = api_command_wrapper(runner.api.list_jobs())"
   ]
  },
  {
   "cell_type": "code",
   "execution_count": 6,
   "id": "6bead11a-5f97-47d8-99e1-9107e782dd72",
   "metadata": {},
   "outputs": [
    {
     "name": "stdout",
     "output_type": "stream",
     "text": [
      "----------------------------------------------------------------------------------------------------------------------------\n",
      "| JOB ID                               | NAME          | STATUS        | SUBMIT TIME                      | RUN DURATION   |\n",
      "----------------------------------------------------------------------------------------------------------------------------\n",
      "| d8e37db1-ede2-481d-8c3d-cf1bad4eec83 | spleen-bundle | FAILED_TO_RUN | 2022-11-09T13:48:06.143170-05:00 | N/A            |\n",
      "| f899e659-a4c2-4923-84b2-bc75be8e4244 | spleen-bundle | RUNNING       | 2022-11-09T13:52:50.776034-05:00 | 0:01:11.338604 |\n",
      "| 296989cf-d3c4-4348-9a75-8c30c01a02fd | spleen-bundle | SUBMITTED     | 2022-11-09T13:54:03.781260-05:00 | N/A            |\n",
      "----------------------------------------------------------------------------------------------------------------------------\n",
      "\n"
     ]
    }
   ],
   "source": [
    "print(jobs[\"raw\"][\"data\"][0][\"data\"])"
   ]
  },
  {
   "cell_type": "markdown",
   "id": "9f8e793e-ca35-41f2-8ab9-5f4ec67510b6",
   "metadata": {
    "tags": []
   },
   "source": [
    "### Show server log"
   ]
  },
  {
   "cell_type": "code",
   "execution_count": 7,
   "id": "de19c140-bc0d-47ca-ace7-5004f0267e8c",
   "metadata": {},
   "outputs": [],
   "source": [
    "%%capture\n",
    "reply = api_command_wrapper(runner.api.tail_target_log(\"server\"))"
   ]
  },
  {
   "cell_type": "code",
   "execution_count": 8,
   "id": "c3582d15-04f4-456f-9523-c87b3e9c747c",
   "metadata": {
    "tags": []
   },
   "outputs": [
    {
     "name": "stdout",
     "output_type": "stream",
     "text": [
      "2022-11-09 13:53:34,929 - FederatedServer - INFO - received update from t1_project_t1_client_a_0 (1047 Bytes, 1668020014 seconds)\n",
      "2022-11-09 13:53:37,762 - FederatedServer - INFO - received update from t1_project_t1_client_b_0 (1047 Bytes, 1668020017 seconds)\n",
      "2022-11-09 13:53:48,612 - FederatedServer - INFO - GetTask: Return task: train to client: t1_client_b (db186635-f3bd-436f-a0ae-f4e85b444ac9) \n",
      "2022-11-09 13:53:48,958 - FederatedServer - INFO - GetTask: Return task: train to client: t1_client_a (16ff0c23-8836-4c52-8f6a-92818e53e93b) \n",
      "2022-11-09 13:53:52,291 - FederatedServer - INFO - received update from t1_project_t1_client_b_0 (1047 Bytes, 1668020032 seconds)\n",
      "2022-11-09 13:53:54,206 - FederatedServer - INFO - received update from t1_project_t1_client_a_0 (1047 Bytes, 1668020034 seconds)\n",
      "2022-11-09 13:53:56,676 - FederatedServer - INFO - GetTask: Return task: train to client: t1_client_a (16ff0c23-8836-4c52-8f6a-92818e53e93b) \n",
      "2022-11-09 13:53:57,038 - FederatedServer - INFO - GetTask: Return task: train to client: t1_client_b (db186635-f3bd-436f-a0ae-f4e85b444ac9) \n",
      "2022-11-09 13:53:59,893 - FederatedServer - INFO - received update from t1_project_t1_client_a_0 (1047 Bytes, 1668020039 seconds)\n",
      "2022-11-09 13:54:02,717 - FederatedServer - INFO - received update from t1_project_t1_client_b_0 (1047 Bytes, 1668020042 seconds)\n"
     ]
    }
   ],
   "source": [
    "print(reply[\"details\"][\"message\"])"
   ]
  },
  {
   "cell_type": "markdown",
   "id": "634f3dd0-b583-4805-a709-4e6e5fc999e7",
   "metadata": {
    "tags": []
   },
   "source": [
    "### Show Connector-A log"
   ]
  },
  {
   "cell_type": "code",
   "execution_count": 9,
   "id": "21088785-8695-4e74-a7d4-6a5e7d6b8a96",
   "metadata": {},
   "outputs": [],
   "source": [
    "%%capture\n",
    "reply = api_command_wrapper(runner.api.tail_target_log(\"t1_client_a\"))"
   ]
  },
  {
   "cell_type": "code",
   "execution_count": 10,
   "id": "f35e993e-7e27-4417-b138-1d8146d10eac",
   "metadata": {
    "tags": []
   },
   "outputs": [
    {
     "name": "stdout",
     "output_type": "stream",
     "text": [
      "    err = engine.deploy_app(\n",
      "  File \"/home/hroth/Code2/nvflare/flhub/nvflare/private/fed/client/client_engine.py\", line 238, in deploy_app\n",
      "    app_deployer = self.get_component(SystemComponents.APP_DEPLOYER)\n",
      "AttributeError: type object 'SystemComponents' has no attribute 'APP_DEPLOYER'\n",
      "\n",
      "2022-11-09 13:52:07,785 - FederatedClient - INFO - Got the new primary SP: localhost:8002\n",
      "2022-11-09 13:52:08,843 - FederatedClient - INFO - Successfully registered client:t1_client_a for project t1_project. Token:16ff0c23-8836-4c52-8f6a-92818e53e93b SSID:ebc6125d-0a56-4688-9b08-355fe9e4d61a\n",
      "2022-11-09 13:52:52,335 - ClientEngine - INFO - Starting client app. rank: 0\n",
      "2022-11-09 13:52:52,355 - ProcessExecutor - INFO - Worker child process ID: 185135\n",
      "2022-11-09 13:52:54,361 - ProcessExecutor - INFO - run (f899e659-a4c2-4923-84b2-bc75be8e4244): waiting for child worker process to finish.\n"
     ]
    }
   ],
   "source": [
    "print(reply[\"details\"][\"message\"])"
   ]
  },
  {
   "cell_type": "markdown",
   "id": "6ab641db-f58d-4518-8839-6158f87262cb",
   "metadata": {
    "tags": []
   },
   "source": [
    "### Show Connector-B log"
   ]
  },
  {
   "cell_type": "code",
   "execution_count": 11,
   "id": "23d68fd1-72ad-4114-ad27-68b333b00c23",
   "metadata": {},
   "outputs": [],
   "source": [
    "%%capture\n",
    "reply = api_command_wrapper(runner.api.tail_target_log(\"t1_client_b\"))"
   ]
  },
  {
   "cell_type": "code",
   "execution_count": 12,
   "id": "c2d49cde-4649-4677-b703-8cf57f36d2e4",
   "metadata": {
    "tags": []
   },
   "outputs": [
    {
     "name": "stdout",
     "output_type": "stream",
     "text": [
      "    err = engine.deploy_app(\n",
      "  File \"/home/hroth/Code2/nvflare/flhub/nvflare/private/fed/client/client_engine.py\", line 238, in deploy_app\n",
      "    app_deployer = self.get_component(SystemComponents.APP_DEPLOYER)\n",
      "AttributeError: type object 'SystemComponents' has no attribute 'APP_DEPLOYER'\n",
      "\n",
      "2022-11-09 13:52:07,803 - FederatedClient - INFO - Got the new primary SP: localhost:8002\n",
      "2022-11-09 13:52:08,846 - FederatedClient - INFO - Successfully registered client:t1_client_b for project t1_project. Token:db186635-f3bd-436f-a0ae-f4e85b444ac9 SSID:ebc6125d-0a56-4688-9b08-355fe9e4d61a\n",
      "2022-11-09 13:52:52,376 - ClientEngine - INFO - Starting client app. rank: 0\n",
      "2022-11-09 13:52:52,395 - ProcessExecutor - INFO - Worker child process ID: 185143\n",
      "2022-11-09 13:52:54,399 - ProcessExecutor - INFO - run (f899e659-a4c2-4923-84b2-bc75be8e4244): waiting for child worker process to finish.\n"
     ]
    }
   ],
   "source": [
    "print(reply[\"details\"][\"message\"])"
   ]
  },
  {
   "cell_type": "markdown",
   "id": "178d79bf-9c00-41e6-a1e4-6efae1e7e905",
   "metadata": {},
   "source": [
    "### Finish"
   ]
  },
  {
   "cell_type": "code",
   "execution_count": 13,
   "id": "e7d1e526-d4bc-43a0-bc7e-8ba80bdaa42e",
   "metadata": {},
   "outputs": [
    {
     "data": {
      "text/plain": [
       "{'status': <APIStatus.ERROR_INACTIVE_SESSION: 'ERROR_INACTIVE_SESSION'>,\n",
       " 'details': 'session is logging out'}"
      ]
     },
     "execution_count": 13,
     "metadata": {},
     "output_type": "execute_result"
    }
   ],
   "source": [
    "runner.api.logout()"
   ]
  },
  {
   "cell_type": "markdown",
   "id": "5d73a35d-8ddf-4163-8843-6b68a1909a43",
   "metadata": {},
   "source": [
    "# Show TensorBoard"
   ]
  },
  {
   "cell_type": "code",
   "execution_count": 14,
   "id": "973dce2f-9da3-46b2-a225-30591bb104e4",
   "metadata": {},
   "outputs": [
    {
     "data": {
      "text/html": [
       "\n",
       "      <iframe id=\"tensorboard-frame-84f3e8a74946e77b\" width=\"100%\" height=\"800\" frameborder=\"0\">\n",
       "      </iframe>\n",
       "      <script>\n",
       "        (function() {\n",
       "          const frame = document.getElementById(\"tensorboard-frame-84f3e8a74946e77b\");\n",
       "          const url = new URL(\"/\", window.location);\n",
       "          const port = 6006;\n",
       "          if (port) {\n",
       "            url.port = port;\n",
       "          }\n",
       "          frame.src = url;\n",
       "        })();\n",
       "      </script>\n",
       "    "
      ],
      "text/plain": [
       "<IPython.core.display.HTML object>"
      ]
     },
     "metadata": {},
     "output_type": "display_data"
    }
   ],
   "source": [
    "# load only the hub server workspace\n",
    "%load_ext tensorboard\n",
    "%tensorboard --logdir \"/home/hroth/Code2/nvflare/flhub/examples/flhub/workspaces/t1_workspace/localhost\""
   ]
  },
  {
   "cell_type": "markdown",
   "id": "ef40053a-1f96-457c-8f9f-fce8073fe1a3",
   "metadata": {},
   "source": [
    "Note. The tensorboard should also be available at [http://localhost:6006](http://localhost:6006)."
   ]
  },
  {
   "cell_type": "code",
   "execution_count": null,
   "id": "e25120a8-271e-4c8a-8d3d-e83c62e18286",
   "metadata": {},
   "outputs": [],
   "source": []
  }
 ],
 "metadata": {
  "kernelspec": {
   "display_name": "Python 3.8 (ipykernel)",
   "language": "python",
   "name": "python3.8"
  },
  "language_info": {
   "codemirror_mode": {
    "name": "ipython",
    "version": 3
   },
   "file_extension": ".py",
   "mimetype": "text/x-python",
   "name": "python",
   "nbconvert_exporter": "python",
   "pygments_lexer": "ipython3",
   "version": "3.8.15"
  }
 },
 "nbformat": 4,
 "nbformat_minor": 5
}
